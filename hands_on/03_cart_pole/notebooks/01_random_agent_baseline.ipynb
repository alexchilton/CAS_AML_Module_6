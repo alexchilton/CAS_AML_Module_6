{
 "cells": [
  {
   "cell_type": "markdown",
   "id": "f7893323",
   "metadata": {
    "id": "f7893323"
   },
   "source": [
    "# 01 Random agent baseline\n",
    "\n",
    "#### 👉Before you try to solve a Reinforcement Learning problem you should get a grasp of its difficulty.\n",
    "\n",
    "#### 👉 To do so, you need to design a dummy agent that can peform the task without much brains, and evaluate its performance.\n",
    "\n",
    "#### 👉A simple way to do so is by using a Random Agent, that chooses its next action randomly, without paying attention at the current state of the environment."
   ]
  },
  {
   "cell_type": "code",
   "id": "fd7b5c91",
   "metadata": {
    "id": "fd7b5c91",
    "outputId": "f470ae2a-48c6-4f28-e614-c97c087aaedb",
    "ExecuteTime": {
     "end_time": "2025-01-21T11:00:41.986917Z",
     "start_time": "2025-01-21T11:00:41.379751Z"
    }
   },
   "source": [
    "%load_ext autoreload\n",
    "%autoreload 2\n",
    "%pylab inline\n",
    "%config InlineBackend.figure_format = 'svg'"
   ],
   "outputs": [
    {
     "name": "stdout",
     "output_type": "stream",
     "text": [
      "%pylab is deprecated, use %matplotlib inline and import the required libraries.\n",
      "Populating the interactive namespace from numpy and matplotlib\n"
     ]
    }
   ],
   "execution_count": 1
  },
  {
   "cell_type": "markdown",
   "id": "6d71e5be",
   "metadata": {
    "id": "6d71e5be"
   },
   "source": [
    "## Environment 🌎"
   ]
  },
  {
   "cell_type": "code",
   "execution_count": 9,
   "id": "bfb033c6",
   "metadata": {
    "colab": {
     "base_uri": "https://localhost:8080/"
    },
    "id": "bfb033c6",
    "executionInfo": {
     "status": "ok",
     "timestamp": 1737374466649,
     "user_tz": -60,
     "elapsed": 292,
     "user": {
      "displayName": "Andre Bodmer",
      "userId": "14573247772902797623"
     }
    },
    "outputId": "3b875a9f-e5a8-40c8-a63a-933cbb837b3e"
   },
   "outputs": [
    {
     "output_type": "stream",
     "name": "stderr",
     "text": [
      "/usr/local/lib/python3.11/dist-packages/gym/core.py:317: DeprecationWarning: \u001B[33mWARN: Initializing wrapper in old step API which returns one bool instead of two. It is recommended to set `new_step_api=True` to use new step API. This will be the default behaviour in future.\u001B[0m\n",
      "  deprecation(\n",
      "/usr/local/lib/python3.11/dist-packages/gym/wrappers/step_api_compatibility.py:39: DeprecationWarning: \u001B[33mWARN: Initializing environment in old step API which returns one bool instead of two. It is recommended to set `new_step_api=True` to use new step API. This will be the default behaviour in future.\u001B[0m\n",
      "  deprecation(\n"
     ]
    }
   ],
   "source": [
    "import gym\n",
    "import numpy as np\n",
    "env = gym.make('CartPole-v1')"
   ]
  },
  {
   "cell_type": "markdown",
   "id": "2a0f7b4b",
   "metadata": {
    "id": "2a0f7b4b"
   },
   "source": [
    "## Random agent 🤖"
   ]
  },
  {
   "cell_type": "code",
   "source": [
    "!pip install gymnasium\n",
    "!pip install gym"
   ],
   "metadata": {
    "colab": {
     "base_uri": "https://localhost:8080/"
    },
    "id": "xiJCU_MqktcQ",
    "executionInfo": {
     "status": "ok",
     "timestamp": 1737374329510,
     "user_tz": -60,
     "elapsed": 7411,
     "user": {
      "displayName": "Andre Bodmer",
      "userId": "14573247772902797623"
     }
    },
    "outputId": "5429e04b-bb16-4c9c-89c4-cf57889fff23"
   },
   "id": "xiJCU_MqktcQ",
   "execution_count": 3,
   "outputs": [
    {
     "output_type": "stream",
     "name": "stderr",
     "text": [
      "/usr/local/lib/python3.11/dist-packages/ipykernel/ipkernel.py:283: DeprecationWarning: `should_run_async` will not call `transform_cell` automatically in the future. Please pass the result to `transformed_cell` argument and any exception that happen during thetransform in `preprocessing_exc_tuple` in IPython 7.17 and above.\n",
      "  and should_run_async(code)\n"
     ]
    },
    {
     "output_type": "stream",
     "name": "stdout",
     "text": [
      "Collecting gymnasium\n",
      "  Downloading gymnasium-1.0.0-py3-none-any.whl.metadata (9.5 kB)\n",
      "Requirement already satisfied: numpy>=1.21.0 in /usr/local/lib/python3.11/dist-packages (from gymnasium) (1.26.4)\n",
      "Requirement already satisfied: cloudpickle>=1.2.0 in /usr/local/lib/python3.11/dist-packages (from gymnasium) (3.1.0)\n",
      "Requirement already satisfied: typing-extensions>=4.3.0 in /usr/local/lib/python3.11/dist-packages (from gymnasium) (4.12.2)\n",
      "Collecting farama-notifications>=0.0.1 (from gymnasium)\n",
      "  Downloading Farama_Notifications-0.0.4-py3-none-any.whl.metadata (558 bytes)\n",
      "Downloading gymnasium-1.0.0-py3-none-any.whl (958 kB)\n",
      "\u001B[2K   \u001B[90m━━━━━━━━━━━━━━━━━━━━━━━━━━━━━━━━━━━━━━━━\u001B[0m \u001B[32m958.1/958.1 kB\u001B[0m \u001B[31m15.7 MB/s\u001B[0m eta \u001B[36m0:00:00\u001B[0m\n",
      "\u001B[?25hDownloading Farama_Notifications-0.0.4-py3-none-any.whl (2.5 kB)\n",
      "Installing collected packages: farama-notifications, gymnasium\n",
      "Successfully installed farama-notifications-0.0.4 gymnasium-1.0.0\n",
      "Requirement already satisfied: gym in /usr/local/lib/python3.11/dist-packages (0.25.2)\n",
      "Requirement already satisfied: numpy>=1.18.0 in /usr/local/lib/python3.11/dist-packages (from gym) (1.26.4)\n",
      "Requirement already satisfied: cloudpickle>=1.2.0 in /usr/local/lib/python3.11/dist-packages (from gym) (3.1.0)\n",
      "Requirement already satisfied: gym_notices>=0.0.4 in /usr/local/lib/python3.11/dist-packages (from gym) (0.0.8)\n"
     ]
    }
   ]
  },
  {
   "cell_type": "code",
   "source": [
    "from google.colab import drive\n",
    "drive.mount('/content/drive')\n",
    "import sys\n",
    "sys.path.append('/content/drive/MyDrive/Colab Notebooks/CAS_AML_RL/hands_on/03_cart_pole/notebooks/')  # Add the parent directory to the path"
   ],
   "metadata": {
    "colab": {
     "base_uri": "https://localhost:8080/"
    },
    "id": "JRUzAckRk7C2",
    "executionInfo": {
     "status": "ok",
     "timestamp": 1737374382048,
     "user_tz": -60,
     "elapsed": 52547,
     "user": {
      "displayName": "Andre Bodmer",
      "userId": "14573247772902797623"
     }
    },
    "outputId": "21f76aad-33d5-46c7-fb7c-e4cebb534019"
   },
   "id": "JRUzAckRk7C2",
   "execution_count": 4,
   "outputs": [
    {
     "output_type": "stream",
     "name": "stdout",
     "text": [
      "Mounted at /content/drive\n"
     ]
    }
   ]
  },
  {
   "cell_type": "code",
   "execution_count": 10,
   "id": "84d43725",
   "metadata": {
    "id": "84d43725",
    "executionInfo": {
     "status": "ok",
     "timestamp": 1737374473223,
     "user_tz": -60,
     "elapsed": 257,
     "user": {
      "displayName": "Andre Bodmer",
      "userId": "14573247772902797623"
     }
    }
   },
   "outputs": [],
   "source": [
    "# If this import fails, run this in your shell and relaunch jupyter:\n",
    "# `export PYTHONPATH=\"..\"`\n",
    "from src.random_agent import RandomAgent\n",
    "agent = RandomAgent(env)"
   ]
  },
  {
   "cell_type": "markdown",
   "id": "0bdb5c39",
   "metadata": {
    "id": "0bdb5c39"
   },
   "source": [
    "## Evaluate the agent ⏱️"
   ]
  },
  {
   "cell_type": "code",
   "execution_count": 11,
   "id": "aa86ae22",
   "metadata": {
    "colab": {
     "base_uri": "https://localhost:8080/"
    },
    "id": "aa86ae22",
    "executionInfo": {
     "status": "ok",
     "timestamp": 1737374476127,
     "user_tz": -60,
     "elapsed": 863,
     "user": {
      "displayName": "Andre Bodmer",
      "userId": "14573247772902797623"
     }
    },
    "outputId": "aa9bcdd7-7fdc-484d-90c2-f2be0ff75db0"
   },
   "outputs": [
    {
     "output_type": "stream",
     "name": "stderr",
     "text": [
      "/usr/local/lib/python3.11/dist-packages/gym/core.py:256: DeprecationWarning: \u001B[33mWARN: Function `env.seed(seed)` is marked as deprecated and will be removed in the future. Please use `env.reset(seed=seed)` instead.\u001B[0m\n",
      "  deprecation(\n",
      "  0%|          | 0/1000 [00:00<?, ?it/s]/usr/local/lib/python3.11/dist-packages/gym/utils/passive_env_checker.py:241: DeprecationWarning: `np.bool8` is a deprecated alias for `np.bool_`.  (Deprecated NumPy 1.24)\n",
      "  if not isinstance(terminated, (bool, np.bool8)):\n",
      "100%|██████████| 1000/1000 [00:00<00:00, 1517.07it/s]\n"
     ]
    }
   ],
   "source": [
    "from src.loops import evaluate\n",
    "n_episodes = 1000\n",
    "rewards, steps = evaluate(agent, env, n_episodes)"
   ]
  },
  {
   "cell_type": "code",
   "execution_count": 12,
   "id": "472903b4",
   "metadata": {
    "colab": {
     "base_uri": "https://localhost:8080/"
    },
    "id": "472903b4",
    "executionInfo": {
     "status": "ok",
     "timestamp": 1737374479268,
     "user_tz": -60,
     "elapsed": 313,
     "user": {
      "displayName": "Andre Bodmer",
      "userId": "14573247772902797623"
     }
    },
    "outputId": "e1634d28-d7dd-4439-9779-af540fd4aaaa"
   },
   "outputs": [
    {
     "output_type": "stream",
     "name": "stdout",
     "text": [
      "Reward average 22.55, std 12.05\n"
     ]
    }
   ],
   "source": [
    "reward_avg = np.array(rewards).mean()\n",
    "reward_std = np.array(rewards).std()\n",
    "print(f'Reward average {reward_avg:.2f}, std {reward_std:.2f}')"
   ]
  },
  {
   "cell_type": "markdown",
   "id": "15dfe200",
   "metadata": {
    "id": "15dfe200"
   },
   "source": [
    "## Let's see how far we got in each attempt"
   ]
  },
  {
   "cell_type": "code",
   "execution_count": 13,
   "id": "a4bb1269",
   "metadata": {
    "colab": {
     "base_uri": "https://localhost:8080/",
     "height": 391
    },
    "id": "a4bb1269",
    "executionInfo": {
     "status": "ok",
     "timestamp": 1737374483820,
     "user_tz": -60,
     "elapsed": 1175,
     "user": {
      "displayName": "Andre Bodmer",
      "userId": "14573247772902797623"
     }
    },
    "outputId": "90a10b03-5dae-4db9-b63a-ee7c04e88cb4"
   },
   "outputs": [
    {
     "output_type": "display_data",
     "data": {
      "text/plain": [
       "<Figure size 1000x400 with 1 Axes>"
      ],
      "image/png": "[encoded data removed]"
     },
     "metadata": {}
    }
   ],
   "source": [
    "import matplotlib.pyplot as plt\n",
    "import pandas as pd\n",
    "\n",
    "fig, ax = plt.subplots(figsize = (10, 4))\n",
    "ax.set_title(\"Rewards\")\n",
    "pd.Series(rewards).plot(kind='hist', bins=100)\n",
    "\n",
    "plt.show()"
   ]
  },
  {
   "cell_type": "markdown",
   "id": "bcbf6d1d",
   "metadata": {
    "id": "bcbf6d1d"
   },
   "source": [
    "## Let's see our agent in action 🎬"
   ]
  },
  {
   "cell_type": "code",
   "execution_count": 14,
   "id": "de569e48",
   "metadata": {
    "colab": {
     "base_uri": "https://localhost:8080/",
     "height": 496
    },
    "id": "de569e48",
    "executionInfo": {
     "status": "ok",
     "timestamp": 1737374494447,
     "user_tz": -60,
     "elapsed": 7050,
     "user": {
      "displayName": "Andre Bodmer",
      "userId": "14573247772902797623"
     }
    },
    "outputId": "d36cb0b1-7ac7-48f1-d4f3-3b3cc692d752"
   },
   "outputs": [
    {
     "output_type": "display_data",
     "data": {
      "text/plain": [
       "<Figure size 800x600 with 1 Axes>"
      ],
      "image/png": "[encoded data removed]"
     },
     "metadata": {}
    }
   ],
   "source": [
    "# Workaround for pygame error: \"error: No available video device\"\n",
    "# See https://stackoverflow.com/questions/15933493/pygame-error-no-available-video-device?rq=1\n",
    "# This is probably needed only for Linux\n",
    "import os\n",
    "os.environ[\"SDL_VIDEODRIVER\"] = \"dummy\"\n",
    "from src.viz import show_video\n",
    "\n",
    "show_video(agent, env, sleep_sec=0.01, seed=0)"
   ]
  },
  {
   "cell_type": "code",
   "execution_count": null,
   "id": "04851dbb",
   "metadata": {
    "id": "04851dbb"
   },
   "outputs": [],
   "source": []
  }
 ],
 "metadata": {
  "kernelspec": {
   "display_name": "Python 3 (ipykernel)",
   "language": "python",
   "name": "python3"
  },
  "language_info": {
   "codemirror_mode": {
    "name": "ipython",
    "version": 3
   },
   "file_extension": ".py",
   "mimetype": "text/x-python",
   "name": "python",
   "nbconvert_exporter": "python",
   "pygments_lexer": "ipython3",
   "version": "3.7.5"
  },
  "colab": {
   "provenance": []
  }
 },
 "nbformat": 4,
 "nbformat_minor": 5
}
